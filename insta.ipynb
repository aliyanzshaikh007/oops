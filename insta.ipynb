{
 "cells": [
  {
   "cell_type": "code",
   "execution_count": 1,
   "metadata": {},
   "outputs": [],
   "source": [
    "class user:\n",
    "    def __init__(self,name,uid,phone_no,mail_id,pic):\n",
    "        self.name = name\n",
    "        self.uid = uid\n",
    "        self.phone_no = phone_no\n",
    "        self.mail_id = mail_id\n",
    "        self.pic = url\n",
    "        \n",
    "\n",
    "\n",
    "\n"
   ]
  },
  {
   "cell_type": "code",
   "execution_count": 2,
   "metadata": {},
   "outputs": [],
   "source": [
    "class post:\n",
    "    def __init__(self,img,uid,time,like,share):\n",
    "        self.img = img\n",
    "        self.uid=uid\n",
    "        self.time = time\n",
    "        self.like=like\n",
    "        self.share=share"
   ]
  },
  {
   "cell_type": "code",
   "execution_count": 3,
   "metadata": {},
   "outputs": [],
   "source": [
    "class comment:\n",
    "    def __init__(self,name,time,likes,comment_id,comment):\n",
    "        self.name=name\n",
    "        self.time=time\n",
    "        self.likes=likes\n",
    "        self.comment_id=comment_id\n",
    "        self.comment=comment"
   ]
  },
  {
   "cell_type": "code",
   "execution_count": null,
   "metadata": {},
   "outputs": [],
   "source": []
  }
 ],
 "metadata": {
  "interpreter": {
   "hash": "a575af7c3e6a4703db931977f0774b270538a9ef6db72e24853142981fd30e09"
  },
  "kernelspec": {
   "display_name": "Python 3.9.7 ('base')",
   "language": "python",
   "name": "python3"
  },
  "language_info": {
   "codemirror_mode": {
    "name": "ipython",
    "version": 3
   },
   "file_extension": ".py",
   "mimetype": "text/x-python",
   "name": "python",
   "nbconvert_exporter": "python",
   "pygments_lexer": "ipython3",
   "version": "3.9.7"
  },
  "orig_nbformat": 4
 },
 "nbformat": 4,
 "nbformat_minor": 2
}
